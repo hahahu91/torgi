{
 "cells": [
  {
   "cell_type": "code",
   "execution_count": 1,
   "id": "0455934f",
   "metadata": {},
   "outputs": [],
   "source": [
    "import numpy as np\n",
    "import pandas as pd\n",
    "\n",
    "from sklearn.compose import ColumnTransformer\n",
    "from sklearn.datasets import fetch_openml\n",
    "from sklearn.pipeline import Pipeline\n",
    "from sklearn.impute import SimpleImputer\n",
    "from sklearn.preprocessing import StandardScaler, OneHotEncoder, MinMaxScaler\n",
    "from sklearn.linear_model import Ridge\n",
    "from sklearn.tree import DecisionTreeRegressor\n",
    "from sklearn.neighbors import KNeighborsRegressor\n",
    "from sklearn.model_selection import train_test_split, GridSearchCV\n",
    "from sklearn.metrics import mean_squared_error, mean_absolute_error\n",
    "import matplotlib.pyplot as plt\n",
    "\n",
    "np.random.seed(0)\n",
    "\n",
    "from openpyxl import load_workbook\n",
    "from openpyxl.styles import Font, PatternFill\n",
    "from export_to_xlsx import save_opening_output_file"
   ]
  },
  {
   "cell_type": "code",
   "execution_count": 2,
   "id": "85b0b52d",
   "metadata": {},
   "outputs": [],
   "source": [
    "def set_predicted_in_xls(file_xlsx_path, df):\n",
    "    print('set_predicted_in_xls')    \n",
    "    try:\n",
    "        save_opening_output_file(file_xlsx_path)\n",
    "    except Exception as _ex:\n",
    "        print(_ex)\n",
    "        \n",
    "    wb = load_workbook(file_xlsx_path)\n",
    "    ws = wb['Sheet1']\n",
    "    objs = {}\n",
    "    objs_by_regions = {}\n",
    "    for i, row in df.iterrows():\n",
    "        ws[f'W{int(row[0]) + 2}'].number_format = '_-* # ##0₽_-;-* # ##0₽-'\n",
    "        ws[f'W{int(row[0]) + 2}'] = row[\"predicted\"]\n",
    "        \n",
    "        ws[f'X{int(row[0]) + 2}'].number_format = '_-* # ##0₽_-;-* # ##0₽-'\n",
    "        ws[f'X{int(row[0]) + 2}'] = row[\"predicted\"]-row[\"Цена за кв.м\"]\n",
    "        if row[\"predicted\"]-row[\"Цена за кв.м\"] > 1000:\n",
    "            ws[f'X{int(row[0]) + 2}'].font = Font(bold=True, color='006100')\n",
    "            ws[f'X{int(row[0]) + 2}'].fill = PatternFill(\"solid\", fgColor=\"C6EFCE\")\n",
    "        elif row[\"predicted\"]-row[\"Цена за кв.м\"] < 0:\n",
    "            ws[f'X{int(row[0]) + 2}'].font  = Font(color=\"9C0006\")\n",
    "            ws[f'X{int(row[0]) + 2}'].fill  = PatternFill(\"solid\", fgColor=\"FFC7CE\")\n",
    "\n",
    "    wb.save(file_xlsx_path)\n",
    "    return"
   ]
  },
  {
   "cell_type": "code",
   "execution_count": 3,
   "id": "fd637a26",
   "metadata": {},
   "outputs": [],
   "source": [
    "#удаляем выбросы\n",
    "def remove_row_emissions(data, row_name):\n",
    "    print(\"remove emissions \", row_name)\n",
    "    lower_bound = data[row_name].quantile(q=0.025)\n",
    "    upper_bound = data[row_name].quantile(q=0.975)\n",
    "    #print(data)\n",
    "    data[(data[row_name] < lower_bound) | (data[row_name] > upper_bound)] = np.nan\n",
    "    data.dropna(subset=[row_name], inplace=True)\n",
    "\n",
    "# разделяем регионы, которые сильно расходятся в ценовой политике\n",
    "def split_df_into_price_region(df):\n",
    "    high = [78, 77]\n",
    "    middle = [50]\n",
    "    df_high_price = df[df[\"Регион\"].isin(set(high))].copy()\n",
    "\n",
    "    df_middle_price = df[\n",
    "        (((df[\"Жителей в нп\"] > 1000000) & (df[\"Жителей в нп\"] < 5000000)) | (df[\"Регион\"].isin(set(middle)))) & ~(\n",
    "            df[\"Регион\"].isin(set(high)))].copy()\n",
    "    df_low_price = df[\n",
    "        (df[\"Жителей в нп\"] <= 1000000) & (df[\"Жителей в нп\"] >= 100) & ~(\n",
    "            df[\"Регион\"].isin(set(high + middle)))].copy()\n",
    "    return df_high_price, df_middle_price, df_low_price"
   ]
  },
  {
   "cell_type": "code",
   "execution_count": 4,
   "id": "ea44a889",
   "metadata": {},
   "outputs": [],
   "source": [
    "def loading_data(paths):\n",
    "    numeric_features = [\"Жителей\", \"Жителей в нп\", \"Коммерческих объектов\", \"Общая площадь\",\n",
    "                        \"Отдельный вход\", \"Культурное наследие\", \"Ремонт\", \"Этаж\"]\n",
    "    df = pd.DataFrame()\n",
    "    if type(paths) == list:\n",
    "        for path in paths:\n",
    "            df = pd.concat((df, pd.read_excel(path),), axis=0)\n",
    "    else:\n",
    "        df = pd.read_excel(paths)\n",
    "\n",
    "    df['Тип объекта'] = df['Тип объекта'].astype(\"string\")\n",
    "\n",
    "    for name in numeric_features:\n",
    "        df[name].replace('None', 0, inplace=True)\n",
    "        df[name].replace(np.nan, 0, inplace=True)\n",
    "\n",
    "    df['Жителей в нп'] = df['Жителей в нп'].astype(int)\n",
    "    df.dropna(subset=['Жителей','Жителей в нп'], inplace=True)\n",
    "\n",
    "    return df"
   ]
  },
  {
   "cell_type": "code",
   "execution_count": 5,
   "id": "730bab60",
   "metadata": {
    "scrolled": true
   },
   "outputs": [
    {
     "name": "stdout",
     "output_type": "stream",
     "text": [
      "Unnamed: 0                        False\n",
      "Регион                            False\n",
      "Общая площадь                     False\n",
      "id                                 True\n",
      "Название                          False\n",
      "Окончания подачи заявок           False\n",
      "Адрес                             False\n",
      "Цена                              False\n",
      "Цена за кв.м                      False\n",
      "Тип объекта                       False\n",
      "Чел/кв.м                           True\n",
      "Ком/кв.м                           True\n",
      "Жителей                           False\n",
      "Жителей в нп                      False\n",
      "Коммерческих объектов             False\n",
      "Расстояние до почты                True\n",
      "Форма проведения                  False\n",
      "Имущество                         False\n",
      "Координаты                         True\n",
      "Описание коммерческих объектов     True\n",
      "Кадастровый номер                  True\n",
      "Этаж                              False\n",
      "Предсказываемая                    True\n",
      "Разница с реальной                 True\n",
      "Отдельный вход                    False\n",
      "Культурное наследие               False\n",
      "Ремонт                            False\n",
      "Прирост ст                         True\n",
      "dtype: bool\n"
     ]
    }
   ],
   "source": [
    "target = \"Цена за кв.м\"\n",
    "numeric_features = [\"Жителей\", \"Жителей в нп\", \"Коммерческих объектов\", \"Общая площадь\", \"Отдельный вход\", \"Культурное наследие\", \"Ремонт\"]\n",
    "categorical_features = [\"Регион\", \"Форма проведения\", \"Имущество\", \"Этаж\", \"Тип объекта\"]\n",
    "columns = [target] + numeric_features + categorical_features\n",
    "\n",
    "out_file =  \"../torgi/output.xlsx\"\n",
    "training_data = ['../torgi/output_archive.xlsx', '../torgi/output_train.xlsx']\n",
    "full_df = loading_data(training_data) #, 'torgi/output_train.xlsx']\n",
    "print(pd.isnull(full_df).any())"
   ]
  },
  {
   "cell_type": "code",
   "execution_count": 6,
   "id": "b95a4809",
   "metadata": {
    "scrolled": true
   },
   "outputs": [
    {
     "data": {
      "text/plain": [
       "<bound method DataFrame.info of      Цена за кв.м  Жителей  Жителей в нп  Коммерческих объектов  \\\n",
       "0    26729.678639   3142.0        141970                  118.0   \n",
       "1     2712.887439    725.0           345                    0.0   \n",
       "2     3182.651191    336.0        260765                    3.0   \n",
       "3     6632.667374   1745.0         35222                   10.0   \n",
       "4     7524.245690    846.0         23662                    1.0   \n",
       "..            ...      ...           ...                    ...   \n",
       "673   2969.497608    532.0         61677                    0.0   \n",
       "674   3210.221395    532.0         61677                    0.0   \n",
       "675   6013.986014    532.0         61677                    0.0   \n",
       "676  10186.219739   6732.0        373940                   13.0   \n",
       "677  59818.181818   1062.0         26211                   13.0   \n",
       "\n",
       "     Общая площадь  Отдельный вход  Культурное наследие  Ремонт  Регион  \\\n",
       "0             52.9               0                  0.0     0.0       1   \n",
       "1            613.0               0                  0.0     0.0       2   \n",
       "2            491.1               0                  1.0     0.0       2   \n",
       "3           1461.4               0                  0.0     0.0       2   \n",
       "4            185.6               0                  0.0     0.0       2   \n",
       "..             ...             ...                  ...     ...     ...   \n",
       "673          334.4               0                  0.0     0.0      86   \n",
       "674          966.6               0                  0.0     0.0      86   \n",
       "675          143.0               0                  0.0     0.0      86   \n",
       "676          107.4               0                  0.0     0.0      86   \n",
       "677           38.5               0                  0.0     0.0      89   \n",
       "\n",
       "    Форма проведения Имущество  Этаж        Тип объекта  \n",
       "0                 EA         М   1.0  Нежилое помещение  \n",
       "1                 PP         М   1.0             здание  \n",
       "2                 EA         М   0.0             здание  \n",
       "3                 EA         Д   0.0             здание  \n",
       "4                 EA         М   1.0           торговое  \n",
       "..               ...       ...   ...                ...  \n",
       "673               EA         М   1.0           здание,   \n",
       "674               EA         М   1.0           здание,   \n",
       "675               EA         М   1.0           здание,   \n",
       "676               EA         М   1.0           здание,   \n",
       "677               PP         М   1.0  Нежилое помещение  \n",
       "\n",
       "[1167 rows x 13 columns]>"
      ]
     },
     "execution_count": 6,
     "metadata": {},
     "output_type": "execute_result"
    }
   ],
   "source": [
    "full_df[columns].info"
   ]
  },
  {
   "cell_type": "code",
   "execution_count": 7,
   "id": "7aac3295",
   "metadata": {
    "scrolled": false
   },
   "outputs": [
    {
     "data": {
      "text/plain": [
       "<AxesSubplot:title={'center':'Цена за кв.м'}, xlabel='Регион'>"
      ]
     },
     "execution_count": 7,
     "metadata": {},
     "output_type": "execute_result"
    },
    {
     "data": {
      "image/png": "[encoded data removed]",
      "text/plain": [
       "<Figure size 2000x1000 with 1 Axes>"
      ]
     },
     "metadata": {},
     "output_type": "display_data"
    }
   ],
   "source": [
    "#смотрим в каких регионах сильный разброс цены за кв.м\n",
    "full_df.boxplot(by ='Регион', column =[target], grid = False, figsize=(20,10))"
   ]
  },
  {
   "cell_type": "code",
   "execution_count": 8,
   "id": "485d2cd8",
   "metadata": {
    "scrolled": false
   },
   "outputs": [
    {
     "name": "stdout",
     "output_type": "stream",
     "text": [
      "remove emissions  Цена за кв.м\n"
     ]
    },
    {
     "data": {
      "image/png": "[encoded data removed]",
      "text/plain": [
       "<Figure size 1000x800 with 1 Axes>"
      ]
     },
     "metadata": {},
     "output_type": "display_data"
    }
   ],
   "source": [
    "df_high, df_middle, df_low = split_df_into_price_region(full_df)\n",
    "\n",
    "df_high[target].hist(bins=100, figsize=(10,8)).set(xlabel='Цена за кв.м', ylabel='Количество')\n",
    "remove_row_emissions(df_high, \"Цена за кв.м\")\n"
   ]
  },
  {
   "cell_type": "code",
   "execution_count": 9,
   "id": "6057c9db",
   "metadata": {},
   "outputs": [
    {
     "data": {
      "text/plain": [
       "Unnamed: 0               0.119883\n",
       "Регион                   0.159970\n",
       "Общая площадь           -0.561298\n",
       "Цена                     0.031783\n",
       "Цена за кв.м             1.000000\n",
       "Чел/кв.м                 0.602515\n",
       "Ком/кв.м                 0.113451\n",
       "Жителей                 -0.032919\n",
       "Жителей в нп            -0.173798\n",
       "Коммерческих объектов    0.297803\n",
       "Расстояние до почты     -0.110491\n",
       "Этаж                     0.361991\n",
       "Предсказываемая          0.654803\n",
       "Разница с реальной      -0.811899\n",
       "Отдельный вход                NaN\n",
       "Культурное наследие           NaN\n",
       "Ремонт                        NaN\n",
       "Прирост ст              -0.457202\n",
       "dtype: float64"
      ]
     },
     "execution_count": 9,
     "metadata": {},
     "output_type": "execute_result"
    }
   ],
   "source": [
    "df_high.corrwith(df_high[target])"
   ]
  },
  {
   "cell_type": "code",
   "execution_count": 10,
   "id": "320fa873",
   "metadata": {
    "scrolled": false
   },
   "outputs": [
    {
     "name": "stdout",
     "output_type": "stream",
     "text": [
      "remove emissions  Цена за кв.м\n",
      "remove emissions  Цена за кв.м\n"
     ]
    },
    {
     "data": {
      "image/png": "[encoded data removed]",
      "text/plain": [
       "<Figure size 1000x800 with 1 Axes>"
      ]
     },
     "metadata": {},
     "output_type": "display_data"
    }
   ],
   "source": [
    "df_middle[target].hist(bins=100, figsize=(10,8), alpha = 0.5).set(xlabel='Цена за кв.м', ylabel='Количество', label='>1mln')\n",
    "df_low[target].hist(bins=100, figsize=(10,8), alpha = 0.5)\n",
    "\n",
    "#удаляем выбросы\n",
    "remove_row_emissions(df_middle, \"Цена за кв.м\")\n",
    "remove_row_emissions(df_low, \"Цена за кв.м\")"
   ]
  },
  {
   "cell_type": "code",
   "execution_count": 11,
   "id": "b3d29bf7",
   "metadata": {},
   "outputs": [],
   "source": [
    "df_test_h, df_test_m, df_test_l = split_df_into_price_region(loading_data(out_file))"
   ]
  },
  {
   "cell_type": "code",
   "execution_count": 12,
   "id": "6ec002d0",
   "metadata": {},
   "outputs": [],
   "source": [
    "#подготавливаем модель для обучения\n",
    "numeric_transformer = Pipeline(\n",
    "    steps=[(\"imputer\", SimpleImputer(strategy='median')), (\"scaler\", MinMaxScaler())]\n",
    ")\n",
    "#SimpleImputer(strategy='constant', fill_value=1)\n",
    "\n",
    "categorical_transformer = OneHotEncoder(handle_unknown=\"ignore\")\n",
    "\n",
    "\n",
    "#Ridge(alpha=10)\n",
    "    #model train score: 0.367\n",
    "    #model test score: 0.300\n",
    "    #MAE: 10674.231\n",
    "\n",
    "#KNeighborsRegressor(8)\n",
    "    #model train score: 0.405\n",
    "    #model test score: 0.305\n",
    "    #MAE: 10418.642\n",
    "#DecisionTreeRegressor(max_depth=4)\n",
    "    #model train score: 0.435\n",
    "    #model test score: 0.121\n",
    "    #MAE: 11433.182"
   ]
  },
  {
   "cell_type": "code",
   "execution_count": 13,
   "id": "9164357d",
   "metadata": {
    "scrolled": true
   },
   "outputs": [],
   "source": [
    "preprocessor = ColumnTransformer(\n",
    "    transformers=[\n",
    "        (\"num\", numeric_transformer, numeric_features),\n",
    "        (\"cat\", categorical_transformer, categorical_features),\n",
    "    ]\n",
    ")\n",
    "clf_h = Pipeline(\n",
    "    steps=[(\"preprocessor\", preprocessor), (\"regressor\", Ridge(alpha=10))]\n",
    ")\n",
    "\n",
    "\n",
    "# X_train, X_test, y_train, y_test = train_test_split(X, y, test_size=0.2, random_state=0)\n",
    "if not df_test_h.empty:\n",
    "    #тренируем модель\n",
    "    \n",
    "    y_h = df_high[\"Цена за кв.м\"].values\n",
    "    X_h = df_high[numeric_features + categorical_features]\n",
    "    #print(X_h)\n",
    "    clf_h.fit(X_h, y_h)\n",
    "\n",
    "    \n",
    "    y_test_h = df_test_h[\"Цена за кв.м\"].values\n",
    "    X_test_h = df_test_h[numeric_features + categorical_features]\n",
    "\n",
    "    #Для модели не достаточно данных для обучения, что бы научится адекватно предсказывать цену в этих регионах\n",
    "    print(\"model train score: %.3f\" % clf_h.score(X_h, y_h))\n",
    "    print(\"model test score: %.3f\" % clf_h.score(X_test_h, y_test_h))\n",
    "    print(\"MAE: %.3f\" % mean_absolute_error(y_test_h, clf_h.predict(X_test_h)))\n",
    "    print(\"MAE: %.3f\" % mean_absolute_error(y_h, clf_h.predict(X_h)))\n",
    "\n",
    "    # смотрим результаты для Москвы и Питера\n",
    "    df_test_h['predicted'] = clf_h.predict(df_test_h[numeric_features + categorical_features])\n",
    "    print(df_test_h[[\"Цена за кв.м\", 'predicted']].head())\n",
    "    # очень большой разброс, которым нельзя доверять\n",
    "    #set_predicted_in_xls(out_file, df_test_h)\n"
   ]
  },
  {
   "cell_type": "code",
   "execution_count": 14,
   "id": "4f207dd8",
   "metadata": {
    "scrolled": false
   },
   "outputs": [
    {
     "name": "stdout",
     "output_type": "stream",
     "text": [
      "model train score: 0.659\n",
      "model test score: -0.203\n",
      "MAE: 17428.275\n",
      "    Цена за кв.м     predicted\n",
      "5    6720.000000  30768.141639\n",
      "14  34272.014388  21298.946127\n",
      "15  46031.755915  30768.141639\n"
     ]
    }
   ],
   "source": [
    " if not df_test_m.empty:\n",
    "        \n",
    "        clf_m = Pipeline(\n",
    "            steps=[(\"preprocessor\", preprocessor), (\"regressor\", DecisionTreeRegressor(max_depth=4))]\n",
    "        )\n",
    "\n",
    "        y_m = df_middle[\"Цена за кв.м\"].values\n",
    "        X_m = df_middle[numeric_features + categorical_features]\n",
    "        clf_m.fit(X_m, y_m)\n",
    "        \n",
    "\n",
    "        y_test_m = df_test_m[\"Цена за кв.м\"].values\n",
    "        X_test_m = df_test_m[numeric_features + categorical_features]\n",
    "\n",
    "        print(\"model train score: %.3f\" % clf_m.score(X_m, y_m))\n",
    "        print(\"model test score: %.3f\" % clf_m.score(X_test_m, y_test_m))\n",
    "        print(\"MAE: %.3f\" % mean_absolute_error(y_test_m, clf_m.predict(X_test_m)))\n",
    "        #очень сильные результаты можно на них упираться при принятии решения\n",
    "\n",
    "        # смотрим результаты для МО ЛО Татарстан, Башкирия, Екат [2, 16, 50, 59, 47]\n",
    "        df_test_m['predicted'] = clf_m.predict(df_test_m[numeric_features + categorical_features])\n",
    "        print(df_test_m[[\"Цена за кв.м\", 'predicted']].head())\n",
    "        #set_predicted_in_xls(\"../torgi/output_archive.xlsx\", df_test_m)\n",
    "        "
   ]
  },
  {
   "cell_type": "code",
   "execution_count": 15,
   "id": "377e6aa0",
   "metadata": {},
   "outputs": [
    {
     "name": "stdout",
     "output_type": "stream",
     "text": [
      "DecisionTreeRegressor(max_depth=4)\n",
      "model DTR test score: 0.198\n",
      "MAE: 13753.986\n",
      "\r\n",
      "\n",
      "Ridge(alpha=10)\n",
      "model Ridge test score: 0.178\n",
      "MAE: 13030.956\n",
      "\r\n",
      "\n",
      "KNeighborsRegressor(8)\n",
      "model KNR test score: 0.319\n",
      "MAE: 12310.264\n",
      "\r\n",
      "\n",
      "LinearRegression\n",
      "model LinearRegression test score: 0.008\n",
      "MAE: 15040.731\n",
      "\r\n",
      "\n",
      "   Цена за кв.м     predicted\n",
      "0   2299.441858  11433.190794\n",
      "1  11669.002802   5274.999975\n",
      "2  76578.285985  33345.672305\n",
      "3  78971.962617  35440.916563\n",
      "4   1162.868547   5274.999975\n"
     ]
    }
   ],
   "source": [
    "if not df_test_l.empty:\n",
    "    \n",
    "    #Ridge(alpha=10)\n",
    "    #model train score: 0.367\n",
    "    #model test score: 0.300\n",
    "    #MAE: 10674.231\n",
    "\n",
    "#KNeighborsRegressor(8)\n",
    "    #model train score: 0.405\n",
    "    #model test score: 0.305\n",
    "    #MAE: 10418.642\n",
    "#DecisionTreeRegressor(max_depth=4)\n",
    "    #model train score: 0.435\n",
    "    #model test score: 0.121\n",
    "    #MAE: 11433.182\n",
    "        from sklearn.linear_model import LinearRegression\n",
    "    \n",
    "        clf_l_DTR = Pipeline(\n",
    "            steps=[(\"preprocessor\", preprocessor), (\"regressor\", DecisionTreeRegressor(max_depth=4))]\n",
    "        )\n",
    "        clf_l_Ridge = Pipeline(\n",
    "            steps=[(\"preprocessor\", preprocessor), (\"regressor\", Ridge(alpha=10))]\n",
    "        )\n",
    "        clf_l_KNR = Pipeline(\n",
    "            steps=[(\"preprocessor\", preprocessor), (\"regressor\", KNeighborsRegressor(8))]\n",
    "        )\n",
    "        clf_l_Line = Pipeline(\n",
    "            steps=[(\"preprocessor\", preprocessor), (\"regressor\", LinearRegression())]\n",
    "        )\n",
    "\n",
    "        y_l = df_low[\"Цена за кв.м\"].values\n",
    "        X_l = df_low[numeric_features + categorical_features]\n",
    "\n",
    "        clf_l_DTR.fit(X_l, y_l)\n",
    "        clf_l_Ridge.fit(X_l, y_l)\n",
    "        clf_l_KNR.fit(X_l, y_l)\n",
    "        clf_l_Line.fit(X_l, y_l)\n",
    "        \n",
    "        y_test_l = df_test_l[\"Цена за кв.м\"].values\n",
    "        X_test_l = df_test_l[numeric_features + categorical_features]\n",
    "\n",
    "        #print(\"model train score: %.3f\" % clf_l.score(X_l, y_l))\n",
    "        print(\"DecisionTreeRegressor(max_depth=4)\")\n",
    "        print(\"model DTR test score: %.3f\" % clf_l_DTR.score(X_test_l, y_test_l))\n",
    "        print(\"MAE: %.3f\" % mean_absolute_error(y_test_l, clf_l_DTR.predict(X_test_l)))\n",
    "        print(\"\\r\\n\")\n",
    "        print(\"Ridge(alpha=10)\")\n",
    "        print(\"model Ridge test score: %.3f\" % clf_l_Ridge.score(X_test_l, y_test_l))\n",
    "        print(\"MAE: %.3f\" % mean_absolute_error(y_test_l, clf_l_Ridge.predict(X_test_l)))\n",
    "        print(\"\\r\\n\")\n",
    "        print(\"KNeighborsRegressor(8)\")\n",
    "        print(\"model KNR test score: %.3f\" % clf_l_KNR.score(X_test_l, y_test_l))\n",
    "        print(\"MAE: %.3f\" % mean_absolute_error(y_test_l, clf_l_KNR.predict(X_test_l)))\n",
    "        print(\"\\r\\n\")\n",
    "        print(\"LinearRegression\")\n",
    "        print(\"model LinearRegression test score: %.3f\" % clf_l_Line.score(X_test_l, y_test_l))\n",
    "        print(\"MAE: %.3f\" % mean_absolute_error(y_test_l, clf_l_Line.predict(X_test_l)))\n",
    "        print(\"\\r\\n\")\n",
    "\n",
    "        #смотрим результаты для всех остальных результатов\n",
    "        df_test_l['predicted'] = clf_l_DTR.predict(df_test_l[numeric_features+categorical_features])\n",
    "        print(df_test_l[[\"Цена за кв.м\", 'predicted']].head())\n",
    "       # set_predicted_in_xls(out_file, df_test_l)\n",
    "\n",
    "# if __name__ == \"__main__\":\n",
    "#     get_predicted(, \"../torgi/output_train.xlsx\")\n",
    "\n",
    "#DecisionTreeRegressor(max_depth=4)"
   ]
  },
  {
   "cell_type": "code",
   "execution_count": null,
   "id": "b9b4f74e",
   "metadata": {},
   "outputs": [],
   "source": []
  }
 ],
 "metadata": {
  "kernelspec": {
   "display_name": "Python 3 (ipykernel)",
   "language": "python",
   "name": "python3"
  },
  "language_info": {
   "codemirror_mode": {
    "name": "ipython",
    "version": 3
   },
   "file_extension": ".py",
   "mimetype": "text/x-python",
   "name": "python",
   "nbconvert_exporter": "python",
   "pygments_lexer": "ipython3",
   "version": "3.10.4"
  }
 },
 "nbformat": 4,
 "nbformat_minor": 5
}
