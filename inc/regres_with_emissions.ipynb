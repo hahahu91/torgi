{
 "cells": [
  {
   "cell_type": "code",
   "execution_count": 1,
   "id": "4d78bd2b",
   "metadata": {},
   "outputs": [],
   "source": [
    "import numpy as np\n",
    "import pandas as pd\n",
    "\n",
    "from sklearn.compose import ColumnTransformer\n",
    "from sklearn.datasets import fetch_openml\n",
    "from sklearn.pipeline import Pipeline\n",
    "from sklearn.impute import SimpleImputer\n",
    "from sklearn.preprocessing import StandardScaler, OneHotEncoder, MinMaxScaler\n",
    "from sklearn.linear_model import Ridge\n",
    "from sklearn.tree import DecisionTreeRegressor\n",
    "from sklearn.neighbors import KNeighborsRegressor\n",
    "from sklearn.model_selection import train_test_split, GridSearchCV\n",
    "from sklearn.metrics import mean_squared_error, mean_absolute_error\n",
    "\n",
    "\n",
    "import matplotlib.pyplot as plt\n",
    "\n",
    "np.random.seed(0)"
   ]
  },
  {
   "cell_type": "markdown",
   "id": "83f25943",
   "metadata": {},
   "source": [
    "#Загрузка данных"
   ]
  },
  {
   "cell_type": "code",
   "execution_count": 2,
   "id": "6e9bb167",
   "metadata": {},
   "outputs": [
    {
     "name": "stdout",
     "output_type": "stream",
     "text": [
      "Unnamed: 0                        False\n",
      "Регион                            False\n",
      "Общая площадь                     False\n",
      "id                                False\n",
      "Название                          False\n",
      "Окончания подачи заявок           False\n",
      "Адрес                             False\n",
      "Цена                              False\n",
      "Цена за кв.м                      False\n",
      "H3 чел/кв.м                       False\n",
      "Чел/кв.м                           True\n",
      "Ком/кв.м                           True\n",
      "Коммерческих объектов             False\n",
      "Расстояние до почты               False\n",
      "Форма проведения                  False\n",
      "Имущество                         False\n",
      "Координаты                        False\n",
      "Описание коммерческих объектов     True\n",
      "Кадастровый номер                  True\n",
      "Этаж                              False\n",
      "Жителей                           False\n",
      "dtype: bool\n",
      "     Unnamed: 0  Регион  Общая площадь                       id  \\\n",
      "0             0       1           52.9   22000066460000000003_1   \n",
      "1             1       2          613.0   22000039540000000001_1   \n",
      "2             2       2          491.1   22000022990000000003_1   \n",
      "3             3       2         1461.4   21000022850000000076_9   \n",
      "4             4       2          283.7  21000022850000000050_26   \n",
      "..          ...     ...            ...                      ...   \n",
      "482         482      86          129.6                        0   \n",
      "483         483      86          107.4                        0   \n",
      "484         484      86          579.5                        0   \n",
      "485         485      86          315.2                        0   \n",
      "486         486      89           38.5                        0   \n",
      "\n",
      "                                              Название  \\\n",
      "0    Нежилое помещение, Этаж № 1, общей площадью 52...   \n",
      "1    Нежилое здание, кадастровый номер 02:36:070121...   \n",
      "2    - общая площадь: 491,1 кв.м.,- этажность: двух...   \n",
      "3    Лот№9: Нежилое здание, площадью 1461,4 кв.м., ...   \n",
      "4    Лот№26(повторно): Нежилое помещение, площадью ...   \n",
      "..                                                 ...   \n",
      "482  Нежилое помещение, общей площадью 129,6 кв.м.,...   \n",
      "483  Проведение продажи на аукционе земельного учас...   \n",
      "484  Нежилое помещение №1, назначение: нежилое, общ...   \n",
      "485  Проведение продажи на аукционе нежилого помеще...   \n",
      "486  Согласно приложению № 1 к информационному сооб...   \n",
      "\n",
      "    Окончания подачи заявок  \\\n",
      "0            22 04 22 21:00   \n",
      "1            04 03 22 13:00   \n",
      "2            21 06 22 12:00   \n",
      "3            07 08 22 20:59   \n",
      "4            17 07 22 20:59   \n",
      "..                      ...   \n",
      "482          26.08.22 13:00   \n",
      "483          09.09.22 13:00   \n",
      "484          28.08.22 07:00   \n",
      "485          23.08.22 13:00   \n",
      "486          06.09.22 04:00   \n",
      "\n",
      "                                                 Адрес       Цена  \\\n",
      "0                            г Майкоп, ул Гоголя, д 19  1414000.0   \n",
      "1    Респ Башкортостан, село Кушнаренково, ул Красн...  1663000.0   \n",
      "2    Респ Башкортостан, г Благовещенск, ул Российск...  1563000.0   \n",
      "3    Респ Башкортостан, г Учалы, ул Горнозаводская,...  9692980.1   \n",
      "4    Респ Башкортостан, г Стерлитамак, ул Николаева...  3356735.0   \n",
      "..                                                 ...        ...   \n",
      "482  Ханты-Мансийский автономный округ – Югра, г. Н...  1061000.0   \n",
      "483  Ханты-Мансийский автономный округ - Югра, горо...  1094000.0   \n",
      "484  Ханты-Мансийский Автономный округ - Югра, г Ме...  6548350.0   \n",
      "485  Ханты-Мансийский автономный округ - Югра, г. Н...  7961000.0   \n",
      "486  Ямало-Ненецкий автономный округ, городской окр...  2303000.0   \n",
      "\n",
      "     Цена за кв.м  H3 чел/кв.м   ...  Ком/кв.м  Коммерческих объектов  \\\n",
      "0    26729.678639          8.51  ...    226.52                  118.0   \n",
      "1     2712.887439          3.74  ...       NaN                    0.0   \n",
      "2     3182.651191          9.47  ...   1060.67                    3.0   \n",
      "3     6632.667374          3.80  ...    663.20                   10.0   \n",
      "4    11831.988016          2.71  ...    985.92                   12.0   \n",
      "..            ...           ...  ...       ...                    ...   \n",
      "482   8186.728395          3.44  ...    255.81                   32.0   \n",
      "483  10186.219739          1.51  ...    783.54                   13.0   \n",
      "484  11300.000000          5.78  ...    491.30                   23.0   \n",
      "485  25256.979695          8.17  ...    631.40                   40.0   \n",
      "486  59818.181818        345.77  ...   4601.38                   13.0   \n",
      "\n",
      "     Расстояние до почты  Форма проведения Имущество            Координаты  \\\n",
      "0                  100.0                EA         М  44.604739, 40.108358   \n",
      "1                 1600.0                PP         М  55.104079, 55.368992   \n",
      "2                 1800.0                EA         М  55.052923, 55.993393   \n",
      "3                 1300.0                EA         Д  54.310998, 59.392411   \n",
      "4                  800.0                EA         Д  53.645922, 55.932047   \n",
      "..                   ...               ...       ...                   ...   \n",
      "482                600.0                EA         М                     0   \n",
      "483                400.0                EA         М                     0   \n",
      "484                500.0                PP         М                     0   \n",
      "485                300.0                EA         М                     0   \n",
      "486                700.0                PP         М                     0   \n",
      "\n",
      "    Описание коммерческих объектов      Кадастровый номер Этаж  Жителей  \n",
      "0         44.604739_40.108358.json    01:08:0507074:272,   1.0   4001.0  \n",
      "1                              NaN     02:36:070121:162,   1.0    345.0  \n",
      "2         55.052923_55.993393.json       02:69:010101:134  0.0    336.0  \n",
      "3         54.310998_59.392411.json     02:67:010302:247,   0.0   1745.0  \n",
      "4         53.645922_55.932047.json       02:56:040204:642  0.0   4359.0  \n",
      "..                             ...                    ...  ...      ...  \n",
      "482                            0.0  86:11:0000000:74264,   1.0   9420.0  \n",
      "483                            0.0    86:10:0101164:930,   1.0   6732.0  \n",
      "484                            0.0   86:19:0010412:1435,   1.0   5088.0  \n",
      "485                            0.0  86:11:0000000:61003,   0.0   6951.0  \n",
      "486                            0.0       89:09:110402:302  1.0   1062.0  \n",
      "\n",
      "[953 rows x 21 columns]\n"
     ]
    }
   ],
   "source": [
    "def loading_data(paths):\n",
    "    #columns = [\"Цена за кв.м\", \"Регион\", \"Форма проведения\", \"Жителей в округе\",\n",
    "             #  \"Коммерческих объектов\", \"Жителей h3\", \"Имущество\", \"Расстояние до почты\", \"Этаж\"]\n",
    "    numeric_features = [\"Жителей\", \"Коммерческих объектов\", \"Расстояние до почты\", \"Общая площадь\"]\n",
    "    df = pd.DataFrame()\n",
    "    if type(paths) == list:\n",
    "        for path in paths:\n",
    "            df = pd.concat((df, pd.read_excel(path),), axis=0)\n",
    "    else:\n",
    "        df = pd.read_excel(paths)\n",
    "    \n",
    "    df[\"Жителей\"] = df[[\"Жителей h3\", \"Жителей в округе\"]].max(axis=1, numeric_only=True)\n",
    "    df.drop(columns=['Жителей h3', 'Жителей в округе'], axis=1, inplace=True)\n",
    "    # если жителей в округе 2к значит, точно есть почтовое отделение просто его не смогли найти, не будем учитывать его\n",
    "    df.loc[((df['Расстояние до почты'].isnull()) & (df[\"Жителей\"] >= 2000)), 'Расстояние до почты'] = 100\n",
    "    df['Расстояние до почты'].replace(np.nan, 5000, inplace=True)\n",
    "    df['Коммерческих объектов'].replace(np.nan, 0, inplace=True)\n",
    "    df['Этаж'].replace(np.nan, 0, inplace=True)\n",
    "    df['Жителей'].replace('', np.nan, inplace=True)\n",
    "    df.loc[df[\"Жителей\"] == 'None', \"Жителей\"] = np.nan\n",
    "    \n",
    "    df.dropna(subset=['Жителей'], inplace=True)\n",
    "    for name in numeric_features:\n",
    "        df[name].replace(np.nan, 0, inplace=True)\n",
    "    df[\"Этаж\"].replace(np.nan, 0, inplace=True)\n",
    "    #df = df.dropna()\n",
    "\n",
    "    return df\n",
    "\n",
    "df = loading_data(['../torgi/output_archive.xlsx', '../torgi/output.xlsx'])\n",
    "print(pd.isnull(df).any())\n",
    "print(df)"
   ]
  },
  {
   "cell_type": "code",
   "execution_count": 3,
   "id": "3d547be1",
   "metadata": {},
   "outputs": [
    {
     "data": {
      "text/plain": [
       "<AxesSubplot:title={'center':'Цена за кв.м'}, xlabel='Регион'>"
      ]
     },
     "execution_count": 3,
     "metadata": {},
     "output_type": "execute_result"
    },
    {
     "data": {
      "image/png": "[encoded data removed]",
      "text/plain": [
       "<Figure size 2000x1000 with 1 Axes>"
      ]
     },
     "metadata": {},
     "output_type": "display_data"
    }
   ],
   "source": [
    "target = \"Цена за кв.м\"\n",
    "numeric_features = [\"Жителей\", \"Коммерческих объектов\", \"Расстояние до почты\", \"Общая площадь\"]\n",
    "categorical_features = [\"Регион\", \"Форма проведения\", \"Имущество\", \"Этаж\"]\n",
    "columns = [target] +numeric_features + categorical_features\n",
    "\n",
    "# Сброс ограничений на количество символов в записи\n",
    "pd.set_option('display.max_colwidth', None)\n",
    "pd.set_option('display.max_columns', 10)\n",
    "\n",
    "#смотрим в каких регионах сильный разброс цены за кв.м\n",
    "df.boxplot(by ='Регион', column =[target], grid = False, figsize=(20,10))"
   ]
  },
  {
   "cell_type": "code",
   "execution_count": 4,
   "id": "ac210c01",
   "metadata": {},
   "outputs": [
    {
     "data": {
      "text/plain": [
       "Unnamed: 0              -0.074088\n",
       "Регион                  -0.091870\n",
       "Общая площадь           -0.388911\n",
       "Цена                     0.238915\n",
       "Цена за кв.м             1.000000\n",
       "H3 чел/кв.м              0.171816\n",
       "Чел/кв.м                 0.003673\n",
       "Ком/кв.м                 0.148533\n",
       "Коммерческих объектов    0.295134\n",
       "Расстояние до почты     -0.179148\n",
       "Этаж                    -0.043292\n",
       "Жителей                  0.285551\n",
       "dtype: float64"
      ]
     },
     "execution_count": 4,
     "metadata": {},
     "output_type": "execute_result"
    }
   ],
   "source": [
    "#убираем их из обучения, так как для них нужно обучать свою модель\n",
    "df = df[~df[\"Регион\"].isin(set([78,77]))]\n",
    "df.corrwith(df[target])"
   ]
  },
  {
   "cell_type": "code",
   "execution_count": 5,
   "id": "46568434",
   "metadata": {
    "scrolled": true
   },
   "outputs": [
    {
     "data": {
      "text/plain": [
       "<AxesSubplot:>"
      ]
     },
     "execution_count": 5,
     "metadata": {},
     "output_type": "execute_result"
    },
    {
     "data": {
      "image/png": "[encoded data removed]",
      "text/plain": [
       "<Figure size 1000x800 with 1 Axes>"
      ]
     },
     "metadata": {},
     "output_type": "display_data"
    }
   ],
   "source": [
    "df[target].hist(bins=100, figsize=(10,8))"
   ]
  },
  {
   "cell_type": "raw",
   "id": "a37cb6ff",
   "metadata": {},
   "source": [
    "#подготавливаем модель для обучения"
   ]
  },
  {
   "cell_type": "code",
   "execution_count": 6,
   "id": "6e90cba5",
   "metadata": {},
   "outputs": [
    {
     "name": "stdout",
     "output_type": "stream",
     "text": [
      "remove emissions  Цена за кв.м\n"
     ]
    }
   ],
   "source": [
    "#удаляем выбросы\n",
    "def remove_row_emissions(data, row_name):\n",
    "    print(\"remove emissions \", row_name)\n",
    "    lower_bound = data[row_name].quantile(q=0.025)\n",
    "    upper_bound = data[row_name].quantile(q=0.975)\n",
    "    #print(data)\n",
    "    data[(data[row_name] < lower_bound) | (data[row_name] > upper_bound)] = np.nan\n",
    "    data.dropna(subset=[row_name], inplace=True)\n",
    "\n",
    "remove_row_emissions(df, \"Цена за кв.м\")\n",
    "#remove_row_emissions(df, \"Общая площадь\")"
   ]
  },
  {
   "cell_type": "code",
   "execution_count": 7,
   "id": "c71b8c58",
   "metadata": {},
   "outputs": [],
   "source": [
    "numeric_transformer = Pipeline(\n",
    "    steps=[(\"imputer\", SimpleImputer(strategy='median')), (\"scaler\", MinMaxScaler())]\n",
    ")\n",
    "#SimpleImputer(strategy='constant', fill_value=1)\n",
    "\n",
    "categorical_transformer = OneHotEncoder(handle_unknown=\"ignore\")\n",
    "\n",
    "preprocessor = ColumnTransformer(\n",
    "    transformers=[\n",
    "        (\"num\", numeric_transformer, numeric_features),\n",
    "        (\"cat\", categorical_transformer, categorical_features),\n",
    "    ]\n",
    ")\n",
    "\n",
    "clf = Pipeline(\n",
    "    steps=[(\"preprocessor\", preprocessor), (\"regressor\", KNeighborsRegressor(8))]\n",
    ")\n",
    "#Ridge(alpha=10)\n",
    "    #model train score: 0.367\n",
    "    #model test score: 0.300\n",
    "    #MAE: 10674.231\n",
    "\n",
    "#KNeighborsRegressor(8)\n",
    "    #model train score: 0.405\n",
    "    #model test score: 0.305\n",
    "    #MAE: 10418.642\n",
    "#DecisionTreeRegressor(max_depth=4)\n",
    "    #model train score: 0.435\n",
    "    #model test score: 0.121\n",
    "    #MAE: 11433.182"
   ]
  },
  {
   "cell_type": "code",
   "execution_count": 8,
   "id": "2899bd3e",
   "metadata": {},
   "outputs": [
    {
     "name": "stdout",
     "output_type": "stream",
     "text": [
      "remove emissions  Цена за кв.м\n"
     ]
    },
    {
     "data": {
      "text/html": [
       "<style>#sk-container-id-1 {color: black;background-color: white;}#sk-container-id-1 pre{padding: 0;}#sk-container-id-1 div.sk-toggleable {background-color: white;}#sk-container-id-1 label.sk-toggleable__label {cursor: pointer;display: block;width: 100%;margin-bottom: 0;padding: 0.3em;box-sizing: border-box;text-align: center;}#sk-container-id-1 label.sk-toggleable__label-arrow:before {content: \"▸\";float: left;margin-right: 0.25em;color: #696969;}#sk-container-id-1 label.sk-toggleable__label-arrow:hover:before {color: black;}#sk-container-id-1 div.sk-estimator:hover label.sk-toggleable__label-arrow:before {color: black;}#sk-container-id-1 div.sk-toggleable__content {max-height: 0;max-width: 0;overflow: hidden;text-align: left;background-color: #f0f8ff;}#sk-container-id-1 div.sk-toggleable__content pre {margin: 0.2em;color: black;border-radius: 0.25em;background-color: #f0f8ff;}#sk-container-id-1 input.sk-toggleable__control:checked~div.sk-toggleable__content {max-height: 200px;max-width: 100%;overflow: auto;}#sk-container-id-1 input.sk-toggleable__control:checked~label.sk-toggleable__label-arrow:before {content: \"▾\";}#sk-container-id-1 div.sk-estimator input.sk-toggleable__control:checked~label.sk-toggleable__label {background-color: #d4ebff;}#sk-container-id-1 div.sk-label input.sk-toggleable__control:checked~label.sk-toggleable__label {background-color: #d4ebff;}#sk-container-id-1 input.sk-hidden--visually {border: 0;clip: rect(1px 1px 1px 1px);clip: rect(1px, 1px, 1px, 1px);height: 1px;margin: -1px;overflow: hidden;padding: 0;position: absolute;width: 1px;}#sk-container-id-1 div.sk-estimator {font-family: monospace;background-color: #f0f8ff;border: 1px dotted black;border-radius: 0.25em;box-sizing: border-box;margin-bottom: 0.5em;}#sk-container-id-1 div.sk-estimator:hover {background-color: #d4ebff;}#sk-container-id-1 div.sk-parallel-item::after {content: \"\";width: 100%;border-bottom: 1px solid gray;flex-grow: 1;}#sk-container-id-1 div.sk-label:hover label.sk-toggleable__label {background-color: #d4ebff;}#sk-container-id-1 div.sk-serial::before {content: \"\";position: absolute;border-left: 1px solid gray;box-sizing: border-box;top: 0;bottom: 0;left: 50%;z-index: 0;}#sk-container-id-1 div.sk-serial {display: flex;flex-direction: column;align-items: center;background-color: white;padding-right: 0.2em;padding-left: 0.2em;position: relative;}#sk-container-id-1 div.sk-item {position: relative;z-index: 1;}#sk-container-id-1 div.sk-parallel {display: flex;align-items: stretch;justify-content: center;background-color: white;position: relative;}#sk-container-id-1 div.sk-item::before, #sk-container-id-1 div.sk-parallel-item::before {content: \"\";position: absolute;border-left: 1px solid gray;box-sizing: border-box;top: 0;bottom: 0;left: 50%;z-index: -1;}#sk-container-id-1 div.sk-parallel-item {display: flex;flex-direction: column;z-index: 1;position: relative;background-color: white;}#sk-container-id-1 div.sk-parallel-item:first-child::after {align-self: flex-end;width: 50%;}#sk-container-id-1 div.sk-parallel-item:last-child::after {align-self: flex-start;width: 50%;}#sk-container-id-1 div.sk-parallel-item:only-child::after {width: 0;}#sk-container-id-1 div.sk-dashed-wrapped {border: 1px dashed gray;margin: 0 0.4em 0.5em 0.4em;box-sizing: border-box;padding-bottom: 0.4em;background-color: white;}#sk-container-id-1 div.sk-label label {font-family: monospace;font-weight: bold;display: inline-block;line-height: 1.2em;}#sk-container-id-1 div.sk-label-container {text-align: center;}#sk-container-id-1 div.sk-container {/* jupyter's `normalize.less` sets `[hidden] { display: none; }` but bootstrap.min.css set `[hidden] { display: none !important; }` so we also need the `!important` here to be able to override the default hidden behavior on the sphinx rendered scikit-learn.org. See: https://github.com/scikit-learn/scikit-learn/issues/21755 */display: inline-block !important;position: relative;}#sk-container-id-1 div.sk-text-repr-fallback {display: none;}</style><div id=\"sk-container-id-1\" class=\"sk-top-container\"><div class=\"sk-text-repr-fallback\"><pre>Pipeline(steps=[(&#x27;preprocessor&#x27;,\n",
       "                 ColumnTransformer(transformers=[(&#x27;num&#x27;,\n",
       "                                                  Pipeline(steps=[(&#x27;imputer&#x27;,\n",
       "                                                                   SimpleImputer(strategy=&#x27;median&#x27;)),\n",
       "                                                                  (&#x27;scaler&#x27;,\n",
       "                                                                   MinMaxScaler())]),\n",
       "                                                  [&#x27;Жителей&#x27;,\n",
       "                                                   &#x27;Коммерческих объектов&#x27;,\n",
       "                                                   &#x27;Расстояние до почты&#x27;,\n",
       "                                                   &#x27;Общая площадь&#x27;]),\n",
       "                                                 (&#x27;cat&#x27;,\n",
       "                                                  OneHotEncoder(handle_unknown=&#x27;ignore&#x27;),\n",
       "                                                  [&#x27;Регион&#x27;, &#x27;Форма проведения&#x27;,\n",
       "                                                   &#x27;Имущество&#x27;, &#x27;Этаж&#x27;])])),\n",
       "                (&#x27;regressor&#x27;, KNeighborsRegressor(n_neighbors=8))])</pre><b>In a Jupyter environment, please rerun this cell to show the HTML representation or trust the notebook. <br />On GitHub, the HTML representation is unable to render, please try loading this page with nbviewer.org.</b></div><div class=\"sk-container\" hidden><div class=\"sk-item sk-dashed-wrapped\"><div class=\"sk-label-container\"><div class=\"sk-label sk-toggleable\"><input class=\"sk-toggleable__control sk-hidden--visually\" id=\"sk-estimator-id-1\" type=\"checkbox\" ><label for=\"sk-estimator-id-1\" class=\"sk-toggleable__label sk-toggleable__label-arrow\">Pipeline</label><div class=\"sk-toggleable__content\"><pre>Pipeline(steps=[(&#x27;preprocessor&#x27;,\n",
       "                 ColumnTransformer(transformers=[(&#x27;num&#x27;,\n",
       "                                                  Pipeline(steps=[(&#x27;imputer&#x27;,\n",
       "                                                                   SimpleImputer(strategy=&#x27;median&#x27;)),\n",
       "                                                                  (&#x27;scaler&#x27;,\n",
       "                                                                   MinMaxScaler())]),\n",
       "                                                  [&#x27;Жителей&#x27;,\n",
       "                                                   &#x27;Коммерческих объектов&#x27;,\n",
       "                                                   &#x27;Расстояние до почты&#x27;,\n",
       "                                                   &#x27;Общая площадь&#x27;]),\n",
       "                                                 (&#x27;cat&#x27;,\n",
       "                                                  OneHotEncoder(handle_unknown=&#x27;ignore&#x27;),\n",
       "                                                  [&#x27;Регион&#x27;, &#x27;Форма проведения&#x27;,\n",
       "                                                   &#x27;Имущество&#x27;, &#x27;Этаж&#x27;])])),\n",
       "                (&#x27;regressor&#x27;, KNeighborsRegressor(n_neighbors=8))])</pre></div></div></div><div class=\"sk-serial\"><div class=\"sk-item sk-dashed-wrapped\"><div class=\"sk-label-container\"><div class=\"sk-label sk-toggleable\"><input class=\"sk-toggleable__control sk-hidden--visually\" id=\"sk-estimator-id-2\" type=\"checkbox\" ><label for=\"sk-estimator-id-2\" class=\"sk-toggleable__label sk-toggleable__label-arrow\">preprocessor: ColumnTransformer</label><div class=\"sk-toggleable__content\"><pre>ColumnTransformer(transformers=[(&#x27;num&#x27;,\n",
       "                                 Pipeline(steps=[(&#x27;imputer&#x27;,\n",
       "                                                  SimpleImputer(strategy=&#x27;median&#x27;)),\n",
       "                                                 (&#x27;scaler&#x27;, MinMaxScaler())]),\n",
       "                                 [&#x27;Жителей&#x27;, &#x27;Коммерческих объектов&#x27;,\n",
       "                                  &#x27;Расстояние до почты&#x27;, &#x27;Общая площадь&#x27;]),\n",
       "                                (&#x27;cat&#x27;, OneHotEncoder(handle_unknown=&#x27;ignore&#x27;),\n",
       "                                 [&#x27;Регион&#x27;, &#x27;Форма проведения&#x27;, &#x27;Имущество&#x27;,\n",
       "                                  &#x27;Этаж&#x27;])])</pre></div></div></div><div class=\"sk-parallel\"><div class=\"sk-parallel-item\"><div class=\"sk-item\"><div class=\"sk-label-container\"><div class=\"sk-label sk-toggleable\"><input class=\"sk-toggleable__control sk-hidden--visually\" id=\"sk-estimator-id-3\" type=\"checkbox\" ><label for=\"sk-estimator-id-3\" class=\"sk-toggleable__label sk-toggleable__label-arrow\">num</label><div class=\"sk-toggleable__content\"><pre>[&#x27;Жителей&#x27;, &#x27;Коммерческих объектов&#x27;, &#x27;Расстояние до почты&#x27;, &#x27;Общая площадь&#x27;]</pre></div></div></div><div class=\"sk-serial\"><div class=\"sk-item\"><div class=\"sk-serial\"><div class=\"sk-item\"><div class=\"sk-estimator sk-toggleable\"><input class=\"sk-toggleable__control sk-hidden--visually\" id=\"sk-estimator-id-4\" type=\"checkbox\" ><label for=\"sk-estimator-id-4\" class=\"sk-toggleable__label sk-toggleable__label-arrow\">SimpleImputer</label><div class=\"sk-toggleable__content\"><pre>SimpleImputer(strategy=&#x27;median&#x27;)</pre></div></div></div><div class=\"sk-item\"><div class=\"sk-estimator sk-toggleable\"><input class=\"sk-toggleable__control sk-hidden--visually\" id=\"sk-estimator-id-5\" type=\"checkbox\" ><label for=\"sk-estimator-id-5\" class=\"sk-toggleable__label sk-toggleable__label-arrow\">MinMaxScaler</label><div class=\"sk-toggleable__content\"><pre>MinMaxScaler()</pre></div></div></div></div></div></div></div></div><div class=\"sk-parallel-item\"><div class=\"sk-item\"><div class=\"sk-label-container\"><div class=\"sk-label sk-toggleable\"><input class=\"sk-toggleable__control sk-hidden--visually\" id=\"sk-estimator-id-6\" type=\"checkbox\" ><label for=\"sk-estimator-id-6\" class=\"sk-toggleable__label sk-toggleable__label-arrow\">cat</label><div class=\"sk-toggleable__content\"><pre>[&#x27;Регион&#x27;, &#x27;Форма проведения&#x27;, &#x27;Имущество&#x27;, &#x27;Этаж&#x27;]</pre></div></div></div><div class=\"sk-serial\"><div class=\"sk-item\"><div class=\"sk-estimator sk-toggleable\"><input class=\"sk-toggleable__control sk-hidden--visually\" id=\"sk-estimator-id-7\" type=\"checkbox\" ><label for=\"sk-estimator-id-7\" class=\"sk-toggleable__label sk-toggleable__label-arrow\">OneHotEncoder</label><div class=\"sk-toggleable__content\"><pre>OneHotEncoder(handle_unknown=&#x27;ignore&#x27;)</pre></div></div></div></div></div></div></div></div><div class=\"sk-item\"><div class=\"sk-estimator sk-toggleable\"><input class=\"sk-toggleable__control sk-hidden--visually\" id=\"sk-estimator-id-8\" type=\"checkbox\" ><label for=\"sk-estimator-id-8\" class=\"sk-toggleable__label sk-toggleable__label-arrow\">KNeighborsRegressor</label><div class=\"sk-toggleable__content\"><pre>KNeighborsRegressor(n_neighbors=8)</pre></div></div></div></div></div></div></div>"
      ],
      "text/plain": [
       "Pipeline(steps=[('preprocessor',\n",
       "                 ColumnTransformer(transformers=[('num',\n",
       "                                                  Pipeline(steps=[('imputer',\n",
       "                                                                   SimpleImputer(strategy='median')),\n",
       "                                                                  ('scaler',\n",
       "                                                                   MinMaxScaler())]),\n",
       "                                                  ['Жителей',\n",
       "                                                   'Коммерческих объектов',\n",
       "                                                   'Расстояние до почты',\n",
       "                                                   'Общая площадь']),\n",
       "                                                 ('cat',\n",
       "                                                  OneHotEncoder(handle_unknown='ignore'),\n",
       "                                                  ['Регион', 'Форма проведения',\n",
       "                                                   'Имущество', 'Этаж'])])),\n",
       "                ('regressor', KNeighborsRegressor(n_neighbors=8))])"
      ]
     },
     "execution_count": 8,
     "metadata": {},
     "output_type": "execute_result"
    }
   ],
   "source": [
    "#тренируем модель\n",
    "y = df[\"Цена за кв.м\"].values\n",
    "X = df[numeric_features + categorical_features]\n",
    "#print(X)\n",
    "df_test = loading_data('../torgi/output_test.xlsx')\n",
    "df_test = df_test[~df_test[\"Регион\"].isin(set([78,77]))]\n",
    "remove_row_emissions(df_test, \"Цена за кв.м\")\n",
    "\n",
    "y_test = df_test[\"Цена за кв.м\"].values\n",
    "X_test = df_test[numeric_features + categorical_features]\n",
    "\n",
    "clf.fit(X, y)\n",
    "\n",
    "# X_train, X_test, y_train, y_test = train_test_split(X, y, test_size=0.2, random_state=0)\n",
    "# clf.fit(X_train, y_train)"
   ]
  },
  {
   "cell_type": "code",
   "execution_count": 9,
   "id": "2920ce58",
   "metadata": {},
   "outputs": [
    {
     "name": "stdout",
     "output_type": "stream",
     "text": [
      "model train score: 0.457\n",
      "model test score: 0.335\n",
      "MAE: 10822.180\n"
     ]
    }
   ],
   "source": [
    "print(\"model train score: %.3f\" % clf.score(X, y))\n",
    "print(\"model test score: %.3f\" % clf.score(X_test, y_test))\n",
    "print(\"MAE: %.3f\" % mean_absolute_error(y_test, clf.predict(X_test)))"
   ]
  },
  {
   "cell_type": "code",
   "execution_count": 10,
   "id": "ddba38f5",
   "metadata": {},
   "outputs": [],
   "source": [
    "#смотрим результаты\n",
    "\n",
    "df_test['predicted'] = clf.predict(df_test[numeric_features+categorical_features])\n",
    "df_test"
   ]
  },
  {
   "cell_type": "code",
   "execution_count": 14,
   "id": "c1d44144",
   "metadata": {},
   "outputs": [
    {
     "name": "stdout",
     "output_type": "stream",
     "text": [
      "set_predicted_in_xls\n"
     ]
    }
   ],
   "source": [
    "from openpyxl import load_workbook\n",
    "from openpyxl.styles import Font, PatternFill\n",
    "def set_predicted_in_xls(file_xlsx_path, df):\n",
    "    print('set_predicted_in_xls')\n",
    "    wb = load_workbook(file_xlsx_path)\n",
    "    ws = wb['Sheet1']\n",
    "    objs = {}\n",
    "    objs_by_regions = {}\n",
    "    for i, row in df.iterrows():\n",
    "        ws[f'W{int(row[0]) + 2}'].number_format = '_-* # ##0₽_-;-* # ##0₽-'\n",
    "        ws[f'W{int(row[0]) + 2}'] = row[\"predicted\"]\n",
    "        \n",
    "        ws[f'X{int(row[0]) + 2}'].number_format = '_-* # ##0₽_-;-* # ##0₽-'\n",
    "        ws[f'X{int(row[0]) + 2}'] = row[\"predicted\"]-row[\"Цена за кв.м\"]\n",
    "        if row[\"predicted\"]-row[\"Цена за кв.м\"] > 1000:\n",
    "            ws[f'X{int(row[0]) + 2}'].font = font(b=True, font_color='006100')\n",
    "            ws[f'X{int(row[0]) + 2}'].fill = PatternFill(\"solid\", fgColor=\"C6EFCE\")\n",
    "        elif row[\"predicted\"]-row[\"Цена за кв.м\"] < 0:\n",
    "            ws[f'X{int(row[0]) + 2}'].font  = Font(color=\"9C0006\")\n",
    "            ws[f'X{int(row[0]) + 2}'].fill  = PatternFill(b=True, color=\"FFC7CE\")\n",
    "\n",
    "    save_opening_output_file(file_xlsx_path)\n",
    "    wb.save(file_xlsx_path)\n",
    "    return\n",
    "from export_to_xlsx import save_opening_output_file\n",
    "try:\n",
    "    # что бы можно было оставлять открым файл оутпут\n",
    "    save_opening_output_file(\"../torgi/output_test.xlsx\")\n",
    "except Exception as _ex:\n",
    "    print(_ex)\n",
    "\n",
    "\n",
    "set_predicted_in_xls(\"../torgi/output_test.xlsx\", df_test)"
   ]
  },
  {
   "cell_type": "code",
   "execution_count": 15,
   "id": "607ebe8d",
   "metadata": {
    "scrolled": true
   },
   "outputs": [],
   "source": [
    "#%pip install -U lightautoml[nlp] -qqqq"
   ]
  },
  {
   "cell_type": "code",
   "execution_count": null,
   "id": "b2ce8a84",
   "metadata": {},
   "outputs": [],
   "source": []
  },
  {
   "cell_type": "code",
   "execution_count": null,
   "id": "a34799ee",
   "metadata": {},
   "outputs": [],
   "source": []
  }
 ],
 "metadata": {
  "kernelspec": {
   "display_name": "Python 3 (ipykernel)",
   "language": "python",
   "name": "python3"
  },
  "language_info": {
   "codemirror_mode": {
    "name": "ipython",
    "version": 3
   },
   "file_extension": ".py",
   "mimetype": "text/x-python",
   "name": "python",
   "nbconvert_exporter": "python",
   "pygments_lexer": "ipython3",
   "version": "3.10.4"
  }
 },
 "nbformat": 4,
 "nbformat_minor": 5
}
